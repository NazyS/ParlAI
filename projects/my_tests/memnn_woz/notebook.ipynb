{
 "metadata": {
  "language_info": {
   "codemirror_mode": {
    "name": "ipython",
    "version": 3
   },
   "file_extension": ".py",
   "mimetype": "text/x-python",
   "name": "python",
   "nbconvert_exporter": "python",
   "pygments_lexer": "ipython3",
   "version": "3.8.8"
  },
  "orig_nbformat": 4,
  "kernelspec": {
   "name": "python3",
   "display_name": "Python 3.8.8 64-bit"
  },
  "interpreter": {
   "hash": "2dc3adab2eec92ecdde733f55020b6e5438ced6b7a6b835aaf7fd6cd5014b302"
  }
 },
 "nbformat": 4,
 "nbformat_minor": 2,
 "cells": [
  {
   "cell_type": "code",
   "execution_count": 1,
   "source": [
    "import json"
   ],
   "outputs": [],
   "metadata": {}
  },
  {
   "cell_type": "code",
   "execution_count": 3,
   "source": [
    "candidates = []\n",
    "\n",
    "path = '/home/nazar/ParlAI/data/WoZ/'\n",
    "fnames = ['woz_train_en.json', 'woz_validate_en.json', 'woz_test_en.json']\n",
    "\n",
    "for fname in fnames:\n",
    "\n",
    "    with open(path+fname, \"r\") as f:\n",
    "        data = json.load(f)\n",
    "\n",
    "    for dialogue in data:\n",
    "        for line in dialogue['dialogue']:\n",
    "            for el in [':'.join(turn_labels) for turn_labels in line['turn_label']]:\n",
    "                candidates.append(el) "
   ],
   "outputs": [],
   "metadata": {}
  },
  {
   "cell_type": "code",
   "execution_count": 4,
   "source": [
    "candidates = set(candidates)"
   ],
   "outputs": [],
   "metadata": {}
  },
  {
   "cell_type": "code",
   "execution_count": 5,
   "source": [
    "with open('labels_full.dict', 'a') as f:\n",
    "    for el in candidates:\n",
    "        f.write(el+'\\n')"
   ],
   "outputs": [],
   "metadata": {}
  },
  {
   "cell_type": "code",
   "execution_count": null,
   "source": [],
   "outputs": [],
   "metadata": {}
  },
  {
   "cell_type": "markdown",
   "source": [
    "# dialog babi task 5 checking labels"
   ],
   "metadata": {}
  },
  {
   "cell_type": "code",
   "execution_count": 2,
   "source": [
    "labels = []\n",
    "with open('../../../data/dialog-bAbI/dialog-bAbI-tasks/dialog-babi-task5-full-dialogs-trn.txt') as f:\n",
    "    for line in f.readlines():\n",
    "        if '\\t' in line:\n",
    "            strings = line.strip().split('\\t')\n",
    "            labels.append(\n",
    "                strings[-1]\n",
    "            )"
   ],
   "outputs": [],
   "metadata": {}
  },
  {
   "cell_type": "code",
   "execution_count": 3,
   "source": [
    "labels = set(labels)"
   ],
   "outputs": [],
   "metadata": {}
  },
  {
   "cell_type": "code",
   "execution_count": 4,
   "source": [
    "len(labels)"
   ],
   "outputs": [
    {
     "output_type": "execute_result",
     "data": {
      "text/plain": [
       "1098"
      ]
     },
     "metadata": {},
     "execution_count": 4
    }
   ],
   "metadata": {}
  },
  {
   "cell_type": "code",
   "execution_count": 14,
   "source": [
    "len(labels)"
   ],
   "outputs": [
    {
     "output_type": "execute_result",
     "data": {
      "text/plain": [
       "1098"
      ]
     },
     "metadata": {},
     "execution_count": 14
    }
   ],
   "metadata": {}
  },
  {
   "cell_type": "code",
   "execution_count": 5,
   "source": [
    "with open('task5/candidates.txt', 'a') as f:\n",
    "    for el in labels:\n",
    "        f.write(el+'\\n')"
   ],
   "outputs": [],
   "metadata": {}
  },
  {
   "cell_type": "code",
   "execution_count": null,
   "source": [],
   "outputs": [],
   "metadata": {}
  },
  {
   "cell_type": "code",
   "execution_count": 1,
   "metadata": {},
   "outputs": [],
   "source": [
    "from parlai.scripts.display_data import DisplayData"
   ]
  },
  {
   "cell_type": "code",
   "execution_count": 4,
   "metadata": {},
   "outputs": [
    {
     "output_type": "stream",
     "name": "stdout",
     "text": [
      "15:48:49 | Opt:\n",
      "15:48:49 |     allow_missing_init_opts: False\n",
      "15:48:49 |     batchsize: 1\n",
      "15:48:49 |     datapath: /home/nazar/ParlAI/data\n",
      "15:48:49 |     datatype: train:ordered\n",
      "15:48:49 |     dict_class: None\n",
      "15:48:49 |     display_add_fields: \n",
      "15:48:49 |     download_path: None\n",
      "15:48:49 |     dynamic_batching: None\n",
      "15:48:49 |     fromfile_datapath: flow_data/testflow\n",
      "15:48:49 |     fromfile_datatype_extension: True\n",
      "15:48:49 |     hide_labels: False\n",
      "15:48:49 |     ignore_agent_reply: True\n",
      "15:48:49 |     image_cropsize: 224\n",
      "15:48:49 |     image_mode: raw\n",
      "15:48:49 |     image_size: 256\n",
      "15:48:49 |     init_model: None\n",
      "15:48:49 |     init_opt: None\n",
      "15:48:49 |     is_debug: False\n",
      "15:48:49 |     loglevel: info\n",
      "15:48:49 |     max_display_len: 1000\n",
      "15:48:49 |     model: None\n",
      "15:48:49 |     model_file: None\n",
      "15:48:49 |     multitask_weights: [1]\n",
      "15:48:49 |     mutators: None\n",
      "15:48:49 |     num_examples: 10\n",
      "15:48:49 |     override: \"{'task': 'fromfile:parlaiformat', 'fromfile_datapath': 'flow_data/testflow', 'fromfile_datatype_extension': True}\"\n",
      "15:48:49 |     parlai_home: /home/nazar/ParlAI\n",
      "15:48:49 |     starttime: Jul20_15-48\n",
      "15:48:49 |     task: fromfile:parlaiformat\n",
      "15:48:49 |     verbose: False\n",
      "15:48:49 | Current ParlAI commit: 525fe6061d35552b6f530a9bf4d84f7f0bbafdf3\n",
      "15:48:49 | creating task(s): fromfile:parlaiformat\n",
      "15:48:49 | Loading ParlAI text data: flow_data/testflow_train.txt\n",
      "\u001b[1;31m- - - NEW EPISODE: flow_data/testflow_train.txt - - -\u001b[0;0m\n",
      "\u001b[0mHello\u001b[0;0m\n",
      "   \u001b[1;94mGood day, [Sir/Madam]! Can I speak with [NAME], please?\u001b[0;0m\n",
      "\u001b[1;31m- - - NEW EPISODE: flow_data/testflow_train.txt - - -\u001b[0;0m\n",
      "\u001b[0mHi\u001b[0;0m\n",
      "   \u001b[1;94mGood day, [Sir/Madam]! Can I speak with [NAME], please?\u001b[0;0m\n",
      "\u001b[1;31m- - - NEW EPISODE: flow_data/testflow_train.txt - - -\u001b[0;0m\n",
      "\u001b[0mGreetings!\u001b[0;0m\n",
      "   \u001b[1;94mGood day, [Sir/Madam]! Can I speak with [NAME], please?\u001b[0;0m\n",
      "\u001b[1;31m- - - NEW EPISODE: flow_data/testflow_train.txt - - -\u001b[0;0m\n",
      "\u001b[0mHi, How is it going?\u001b[0;0m\n",
      "   \u001b[1;94mGood day, [Sir/Madam]! Can I speak with [NAME], please?\u001b[0;0m\n",
      "\u001b[1;31m- - - NEW EPISODE: flow_data/testflow_train.txt - - -\u001b[0;0m\n",
      "\u001b[0mHow are you doing?\u001b[0;0m\n",
      "   \u001b[1;94mGood day, [Sir/Madam]! Can I speak with [NAME], please?\u001b[0;0m\n",
      "\u001b[1;31m- - - NEW EPISODE: flow_data/testflow_train.txt - - -\u001b[0;0m\n",
      "\u001b[0mNice to meet you.\u001b[0;0m\n",
      "   \u001b[1;94mGood day, [Sir/Madam]! Can I speak with [NAME], please?\u001b[0;0m\n",
      "\u001b[1;31m- - - NEW EPISODE: flow_data/testflow_train.txt - - -\u001b[0;0m\n",
      "\u001b[0mHow do you do?\u001b[0;0m\n",
      "   \u001b[1;94mGood day, [Sir/Madam]! Can I speak with [NAME], please?\u001b[0;0m\n",
      "\u001b[1;31m- - - NEW EPISODE: flow_data/testflow_train.txt - - -\u001b[0;0m\n",
      "\u001b[0mHi, nice to meet you.\u001b[0;0m\n",
      "   \u001b[1;94mGood day, [Sir/Madam]! Can I speak with [NAME], please?\u001b[0;0m\n",
      "\u001b[1;31m- - - NEW EPISODE: flow_data/testflow_train.txt - - -\u001b[0;0m\n",
      "\u001b[0mIt is a pleasure to meet you.\u001b[0;0m\n",
      "   \u001b[1;94mGood day, [Sir/Madam]! Can I speak with [NAME], please?\u001b[0;0m\n",
      "\u001b[1;31m- - - NEW EPISODE: flow_data/testflow_train.txt - - -\u001b[0;0m\n",
      "\u001b[0mTop of the morning to you!\u001b[0;0m\n",
      "   \u001b[1;94mGood day, [Sir/Madam]! Can I speak with [NAME], please?\u001b[0;0m\n",
      "15:48:49 | loaded 11 episodes with a total of 11 examples\n"
     ]
    }
   ],
   "source": [
    "DisplayData.main(\n",
    "    task='fromfile:parlaiformat',\n",
    "    fromfile_datapath='flow_data/testflow',\n",
    "    fromfile_datatype_extension=True\n",
    ")"
   ]
  },
  {
   "cell_type": "code",
   "execution_count": null,
   "metadata": {},
   "outputs": [],
   "source": []
  },
  {
   "source": [
    "# Creating test set with greetings"
   ],
   "cell_type": "markdown",
   "metadata": {}
  },
  {
   "cell_type": "code",
   "execution_count": null,
   "metadata": {},
   "outputs": [],
   "source": [
    "# text:hello\tlabels:hi, how are you?\tepisode_done:True\n",
    "\n",
    "# text:hi\tlabels:hello hello\tepisode_done:True"
   ]
  },
  {
   "cell_type": "code",
   "execution_count": 4,
   "metadata": {},
   "outputs": [],
   "source": [
    "response = 'Good day, [Sir/Madam]! Can I speak with [NAME], please?'\n",
    "\n",
    "with open('flow_data/responses/greetings.txt') as greetings:\n",
    "    with open('flow_data/testflow_train.txt', 'a') as dataset:\n",
    "        for line in greetings.readlines():\n",
    "            dataset.write(\n",
    "                f'text:{line.strip()}\\tlabels:{response}\\tepisode_done:True\\n\\n'\n",
    "            )\n"
   ]
  },
  {
   "cell_type": "code",
   "execution_count": null,
   "metadata": {},
   "outputs": [],
   "source": []
  }
 ]
}