{
 "metadata": {
  "language_info": {
   "codemirror_mode": {
    "name": "ipython",
    "version": 3
   },
   "file_extension": ".py",
   "mimetype": "text/x-python",
   "name": "python",
   "nbconvert_exporter": "python",
   "pygments_lexer": "ipython3",
   "version": "3.8.8"
  },
  "orig_nbformat": 4,
  "kernelspec": {
   "name": "python3",
   "display_name": "Python 3.8.8 64-bit"
  },
  "interpreter": {
   "hash": "2dc3adab2eec92ecdde733f55020b6e5438ced6b7a6b835aaf7fd6cd5014b302"
  }
 },
 "nbformat": 4,
 "nbformat_minor": 2,
 "cells": [
  {
   "cell_type": "code",
   "execution_count": 1,
   "source": [
    "import json"
   ],
   "outputs": [],
   "metadata": {}
  },
  {
   "cell_type": "code",
   "execution_count": 3,
   "source": [
    "candidates = []\n",
    "\n",
    "path = '/home/nazar/ParlAI/data/WoZ/'\n",
    "fnames = ['woz_train_en.json', 'woz_validate_en.json', 'woz_test_en.json']\n",
    "\n",
    "for fname in fnames:\n",
    "\n",
    "    with open(path+fname, \"r\") as f:\n",
    "        data = json.load(f)\n",
    "\n",
    "    for dialogue in data:\n",
    "        for line in dialogue['dialogue']:\n",
    "            for el in [':'.join(turn_labels) for turn_labels in line['turn_label']]:\n",
    "                candidates.append(el) "
   ],
   "outputs": [],
   "metadata": {}
  },
  {
   "cell_type": "code",
   "execution_count": 4,
   "source": [
    "candidates = set(candidates)"
   ],
   "outputs": [],
   "metadata": {}
  },
  {
   "cell_type": "code",
   "execution_count": 5,
   "source": [
    "with open('labels_full.dict', 'a') as f:\n",
    "    for el in candidates:\n",
    "        f.write(el+'\\n')"
   ],
   "outputs": [],
   "metadata": {}
  },
  {
   "cell_type": "code",
   "execution_count": null,
   "source": [],
   "outputs": [],
   "metadata": {}
  },
  {
   "cell_type": "markdown",
   "source": [
    "# dialog babi task 5 checking labels"
   ],
   "metadata": {}
  },
  {
   "cell_type": "code",
   "execution_count": 2,
   "source": [
    "labels = []\n",
    "with open('../../../data/dialog-bAbI/dialog-bAbI-tasks/dialog-babi-task5-full-dialogs-trn.txt') as f:\n",
    "    for line in f.readlines():\n",
    "        if '\\t' in line:\n",
    "            strings = line.strip().split('\\t')\n",
    "            labels.append(\n",
    "                strings[-1]\n",
    "            )"
   ],
   "outputs": [],
   "metadata": {}
  },
  {
   "cell_type": "code",
   "execution_count": 3,
   "source": [
    "labels = set(labels)"
   ],
   "outputs": [],
   "metadata": {}
  },
  {
   "cell_type": "code",
   "execution_count": 4,
   "source": [
    "len(labels)"
   ],
   "outputs": [
    {
     "output_type": "execute_result",
     "data": {
      "text/plain": [
       "1098"
      ]
     },
     "metadata": {},
     "execution_count": 4
    }
   ],
   "metadata": {}
  },
  {
   "cell_type": "code",
   "execution_count": 14,
   "source": [
    "len(labels)"
   ],
   "outputs": [
    {
     "output_type": "execute_result",
     "data": {
      "text/plain": [
       "1098"
      ]
     },
     "metadata": {},
     "execution_count": 14
    }
   ],
   "metadata": {}
  },
  {
   "cell_type": "code",
   "execution_count": 5,
   "source": [
    "with open('task5/candidates.txt', 'a') as f:\n",
    "    for el in labels:\n",
    "        f.write(el+'\\n')"
   ],
   "outputs": [],
   "metadata": {}
  },
  {
   "cell_type": "code",
   "execution_count": null,
   "source": [],
   "outputs": [],
   "metadata": {}
  },
  {
   "cell_type": "code",
   "execution_count": 1,
   "source": [
    "from parlai.scripts.display_data import DisplayData"
   ],
   "outputs": [],
   "metadata": {}
  },
  {
   "cell_type": "code",
   "execution_count": 4,
   "source": [
    "DisplayData.main(\n",
    "    task='fromfile:parlaiformat',\n",
    "    fromfile_datapath='flow_data/testflow',\n",
    "    fromfile_datatype_extension=True\n",
    ")"
   ],
   "outputs": [
    {
     "output_type": "stream",
     "name": "stdout",
     "text": [
      "15:48:49 | Opt:\n",
      "15:48:49 |     allow_missing_init_opts: False\n",
      "15:48:49 |     batchsize: 1\n",
      "15:48:49 |     datapath: /home/nazar/ParlAI/data\n",
      "15:48:49 |     datatype: train:ordered\n",
      "15:48:49 |     dict_class: None\n",
      "15:48:49 |     display_add_fields: \n",
      "15:48:49 |     download_path: None\n",
      "15:48:49 |     dynamic_batching: None\n",
      "15:48:49 |     fromfile_datapath: flow_data/testflow\n",
      "15:48:49 |     fromfile_datatype_extension: True\n",
      "15:48:49 |     hide_labels: False\n",
      "15:48:49 |     ignore_agent_reply: True\n",
      "15:48:49 |     image_cropsize: 224\n",
      "15:48:49 |     image_mode: raw\n",
      "15:48:49 |     image_size: 256\n",
      "15:48:49 |     init_model: None\n",
      "15:48:49 |     init_opt: None\n",
      "15:48:49 |     is_debug: False\n",
      "15:48:49 |     loglevel: info\n",
      "15:48:49 |     max_display_len: 1000\n",
      "15:48:49 |     model: None\n",
      "15:48:49 |     model_file: None\n",
      "15:48:49 |     multitask_weights: [1]\n",
      "15:48:49 |     mutators: None\n",
      "15:48:49 |     num_examples: 10\n",
      "15:48:49 |     override: \"{'task': 'fromfile:parlaiformat', 'fromfile_datapath': 'flow_data/testflow', 'fromfile_datatype_extension': True}\"\n",
      "15:48:49 |     parlai_home: /home/nazar/ParlAI\n",
      "15:48:49 |     starttime: Jul20_15-48\n",
      "15:48:49 |     task: fromfile:parlaiformat\n",
      "15:48:49 |     verbose: False\n",
      "15:48:49 | Current ParlAI commit: 525fe6061d35552b6f530a9bf4d84f7f0bbafdf3\n",
      "15:48:49 | creating task(s): fromfile:parlaiformat\n",
      "15:48:49 | Loading ParlAI text data: flow_data/testflow_train.txt\n",
      "\u001b[1;31m- - - NEW EPISODE: flow_data/testflow_train.txt - - -\u001b[0;0m\n",
      "\u001b[0mHello\u001b[0;0m\n",
      "   \u001b[1;94mGood day, [Sir/Madam]! Can I speak with [NAME], please?\u001b[0;0m\n",
      "\u001b[1;31m- - - NEW EPISODE: flow_data/testflow_train.txt - - -\u001b[0;0m\n",
      "\u001b[0mHi\u001b[0;0m\n",
      "   \u001b[1;94mGood day, [Sir/Madam]! Can I speak with [NAME], please?\u001b[0;0m\n",
      "\u001b[1;31m- - - NEW EPISODE: flow_data/testflow_train.txt - - -\u001b[0;0m\n",
      "\u001b[0mGreetings!\u001b[0;0m\n",
      "   \u001b[1;94mGood day, [Sir/Madam]! Can I speak with [NAME], please?\u001b[0;0m\n",
      "\u001b[1;31m- - - NEW EPISODE: flow_data/testflow_train.txt - - -\u001b[0;0m\n",
      "\u001b[0mHi, How is it going?\u001b[0;0m\n",
      "   \u001b[1;94mGood day, [Sir/Madam]! Can I speak with [NAME], please?\u001b[0;0m\n",
      "\u001b[1;31m- - - NEW EPISODE: flow_data/testflow_train.txt - - -\u001b[0;0m\n",
      "\u001b[0mHow are you doing?\u001b[0;0m\n",
      "   \u001b[1;94mGood day, [Sir/Madam]! Can I speak with [NAME], please?\u001b[0;0m\n",
      "\u001b[1;31m- - - NEW EPISODE: flow_data/testflow_train.txt - - -\u001b[0;0m\n",
      "\u001b[0mNice to meet you.\u001b[0;0m\n",
      "   \u001b[1;94mGood day, [Sir/Madam]! Can I speak with [NAME], please?\u001b[0;0m\n",
      "\u001b[1;31m- - - NEW EPISODE: flow_data/testflow_train.txt - - -\u001b[0;0m\n",
      "\u001b[0mHow do you do?\u001b[0;0m\n",
      "   \u001b[1;94mGood day, [Sir/Madam]! Can I speak with [NAME], please?\u001b[0;0m\n",
      "\u001b[1;31m- - - NEW EPISODE: flow_data/testflow_train.txt - - -\u001b[0;0m\n",
      "\u001b[0mHi, nice to meet you.\u001b[0;0m\n",
      "   \u001b[1;94mGood day, [Sir/Madam]! Can I speak with [NAME], please?\u001b[0;0m\n",
      "\u001b[1;31m- - - NEW EPISODE: flow_data/testflow_train.txt - - -\u001b[0;0m\n",
      "\u001b[0mIt is a pleasure to meet you.\u001b[0;0m\n",
      "   \u001b[1;94mGood day, [Sir/Madam]! Can I speak with [NAME], please?\u001b[0;0m\n",
      "\u001b[1;31m- - - NEW EPISODE: flow_data/testflow_train.txt - - -\u001b[0;0m\n",
      "\u001b[0mTop of the morning to you!\u001b[0;0m\n",
      "   \u001b[1;94mGood day, [Sir/Madam]! Can I speak with [NAME], please?\u001b[0;0m\n",
      "15:48:49 | loaded 11 episodes with a total of 11 examples\n"
     ]
    }
   ],
   "metadata": {}
  },
  {
   "cell_type": "code",
   "execution_count": null,
   "source": [
    "from parlai.scripts.interactive import Interactive\n",
    "\n",
    "Interactive.main(\n",
    "    model_file='task5-3/pos_enc/memnn_dialog_babi',\n",
    "    eval_candidates='fixed',\n",
    "    fixed_candidates_path='task5-3/test_cand.txt',\n",
    "    # repeat_blocking_heuristic=False,\n",
    ")"
   ],
   "outputs": [],
   "metadata": {}
  },
  {
   "cell_type": "markdown",
   "source": [
    "# Creating test set with greetings"
   ],
   "metadata": {}
  },
  {
   "cell_type": "code",
   "execution_count": null,
   "source": [
    "# text:hello\tlabels:hi, how are you?\tepisode_done:True\n",
    "\n",
    "# text:hi\tlabels:hello hello\tepisode_done:True"
   ],
   "outputs": [],
   "metadata": {}
  },
  {
   "cell_type": "code",
   "execution_count": 4,
   "source": [
    "response = 'Good day, [Sir/Madam]! Can I speak with [NAME], please?'\n",
    "\n",
    "with open('flow_data/responses/greetings.txt') as greetings:\n",
    "    with open('flow_data/testflow_train.txt', 'a') as dataset:\n",
    "        for line in greetings.readlines():\n",
    "            dataset.write(\n",
    "                f'text:{line.strip()}\\tlabels:{response}\\tepisode_done:True\\n\\n'\n",
    "            )\n"
   ],
   "outputs": [],
   "metadata": {}
  },
  {
   "cell_type": "markdown",
   "source": [
    "# storyline class"
   ],
   "metadata": {}
  },
  {
   "cell_type": "code",
   "execution_count": 93,
   "source": [
    "import os\n",
    "\n",
    "test_stucture = {\n",
    "    '0':['1'],\n",
    "    '1':['1a', '1b', '1c'],\n",
    "    '1a':['2a'],\n",
    "    '1b':['2b'],\n",
    "    '1c':['2c'],\n",
    "    '2b':['2b-1', '2b-2', '2b-3'],\n",
    "    '2b-1':['3b-1'],\n",
    "    '2b-2':['3b-2'],\n",
    "    '2b-3':['3b-3'],\n",
    "    '2a':['2a-2', '2a-3'],\n",
    "    # '2a':['2a-1', '2a-2', '2a-3'],\n",
    "    # '2a-1':['3a-1'],\n",
    "    '2a-2':['5a-2'],\n",
    "    '2a-3':['3a-3'],\n",
    "    '3a-3':['4a-3-a', '4a-3-b'],\n",
    "    '4a-3-a':['5a-2'],\n",
    "    '4a-3-b':['5a-3']\n",
    "}\n",
    "\n",
    "class Story():\n",
    "    def __init__(\n",
    "        self,\n",
    "        structure=test_stucture,\n",
    "        folder='flow_data/responses',\n",
    "        dataset_path='flow_data/flow_train_2.txt',\n",
    "        candidates_outpath='flow_test/candidates.txt'\n",
    "    ) -> None:\n",
    "        self.folder = folder\n",
    "        self.structure = structure\n",
    "        self.dataset_path = dataset_path\n",
    "        self.candidates_outpath = candidates_outpath\n",
    "\n",
    "        self.scripts = []\n",
    "        self.recursive_build_scripts('', '0')\n",
    "\n",
    "        self.stories = []\n",
    "        self.build_stories()\n",
    "\n",
    "\n",
    "    def add_connection(self, story, out_node):\n",
    "        return story + out_node + ' '\n",
    "\n",
    "    def recursive_build_scripts(self, story, inp):\n",
    "        story = self.add_connection(story, inp)        \n",
    "        connections = self.structure.get(inp)\n",
    "        try:\n",
    "            for node in connections:\n",
    "                self.recursive_build_scripts(story, node)\n",
    "        except:\n",
    "            self.scripts.append(\n",
    "                story\n",
    "            )\n",
    "    \n",
    "    def recursive_build_story(self, story, nodes):\n",
    "        try:\n",
    "            filename = f'response_{nodes[0]}.txt'\n",
    "            path = os.path.join(self.folder, filename)\n",
    "            with open(path, 'r') as f:\n",
    "                lines = f.readlines()\n",
    "                if len(lines) == 0:\n",
    "                    self.stories.append(story)\n",
    "                else:\n",
    "                    for line in lines:\n",
    "                        self.recursive_build_story(\n",
    "                            story + line,\n",
    "                            nodes[1:]\n",
    "                        )\n",
    "        except:\n",
    "            self.stories.append(story)\n",
    "\n",
    "    def build_stories(self):\n",
    "        for script in self.scripts:\n",
    "            nodes = script.split()\n",
    "            self.recursive_build_story('', nodes)\n",
    "\n",
    "\n",
    "    def __getitem__(self, idx):\n",
    "        return self.stories[idx]\n",
    "    \n",
    "    def __len__(self):\n",
    "        return len(self.stories)\n",
    "\n",
    "    def story_to_ds_format(self, story):\n",
    "        lines = story.split('\\n')\n",
    "        string = ''\n",
    "        prefix = ['text:', 'labels:']\n",
    "\n",
    "        for i, line in enumerate(lines[:-2]):\n",
    "            if i%2!=0:\n",
    "                string += prefix[1]+line+'\\n'\n",
    "            else:\n",
    "                string += prefix[0]+line + '\\t'\n",
    "        \n",
    "\n",
    "        string += prefix[1] + lines[-2] + '\\tepisode_done:True\\n\\n'\n",
    "        return string\n",
    "\n",
    "    def build_dataset(self):\n",
    "        with open(self.dataset_path, 'w') as f:\n",
    "            for story in self.stories:\n",
    "                f.write(self.story_to_ds_format(story))\n",
    "\n",
    "    def build_candidates(self, outpath=None):\n",
    "        all_labels = []\n",
    "        for story in self.stories:\n",
    "            lines = story.split('\\n')\n",
    "            labels = lines[1::2]\n",
    "            all_labels.extend(labels)\n",
    "\n",
    "        all_labels = list(set(all_labels))\n",
    "        \n",
    "        if outpath is None:\n",
    "            outpath = self.candidates_outpath\n",
    "        \n",
    "        with open(outpath, 'w') as f:\n",
    "            for cand in all_labels:\n",
    "                f.write(cand+'\\n')"
   ],
   "outputs": [],
   "metadata": {}
  },
  {
   "cell_type": "code",
   "execution_count": 94,
   "source": [
    "stories = Story()"
   ],
   "outputs": [],
   "metadata": {}
  },
  {
   "cell_type": "code",
   "execution_count": 95,
   "metadata": {},
   "outputs": [],
   "source": [
    "stories.build_dataset()"
   ]
  },
  {
   "cell_type": "code",
   "execution_count": 89,
   "metadata": {},
   "outputs": [],
   "source": [
    "stories.build_candidates()"
   ]
  },
  {
   "cell_type": "code",
   "execution_count": null,
   "metadata": {},
   "outputs": [],
   "source": []
  },
  {
   "cell_type": "code",
   "execution_count": 47,
   "source": [
    "nodes = []\n",
    "for key, vals in test_stucture.items():\n",
    "    nodes.append(key)\n",
    "    for el in vals:\n",
    "        nodes.append(el)\n",
    "\n",
    "nodes = set(nodes)"
   ],
   "outputs": [],
   "metadata": {}
  },
  {
   "cell_type": "code",
   "execution_count": 48,
   "source": [
    "import os\n",
    "\n",
    "for node in nodes:\n",
    "    folderpath = 'flow_data/responses'\n",
    "    filepath = os.path.join(folderpath, f'response_{node}.txt')\n",
    "    if not os.path.exists(filepath):\n",
    "        open(filepath, 'w').close()"
   ],
   "outputs": [],
   "metadata": {}
  },
  {
   "cell_type": "code",
   "execution_count": 132,
   "source": [],
   "outputs": [],
   "metadata": {}
  },
  {
   "cell_type": "code",
   "execution_count": 43,
   "metadata": {},
   "outputs": [],
   "source": [
    "from parlai.scripts.build_candidates import BuildCandidates"
   ]
  },
  {
   "cell_type": "code",
   "execution_count": 52,
   "metadata": {},
   "outputs": [
    {
     "output_type": "error",
     "ename": "ModuleNotFoundError",
     "evalue": "No module named 'parlai.tasks.testflow'",
     "traceback": [
      "\u001b[0;31m---------------------------------------------------------------------------\u001b[0m",
      "\u001b[0;31mModuleNotFoundError\u001b[0m                       Traceback (most recent call last)",
      "\u001b[0;32m<ipython-input-52-05c5c0329c3f>\u001b[0m in \u001b[0;36m<module>\u001b[0;34m\u001b[0m\n\u001b[0;32m----> 1\u001b[0;31m BuildCandidates.main(\n\u001b[0m\u001b[1;32m      2\u001b[0m     \u001b[0mdatapath\u001b[0m\u001b[0;34m=\u001b[0m\u001b[0;34m'flow_data'\u001b[0m\u001b[0;34m,\u001b[0m\u001b[0;34m\u001b[0m\u001b[0;34m\u001b[0m\u001b[0m\n\u001b[1;32m      3\u001b[0m     \u001b[0mtask\u001b[0m\u001b[0;34m=\u001b[0m\u001b[0;34m'testflow:train2'\u001b[0m\u001b[0;34m,\u001b[0m\u001b[0;34m\u001b[0m\u001b[0;34m\u001b[0m\u001b[0m\n\u001b[1;32m      4\u001b[0m     \u001b[0moutfile\u001b[0m\u001b[0;34m=\u001b[0m\u001b[0;34m'flow_test/candidates.txt'\u001b[0m\u001b[0;34m\u001b[0m\u001b[0;34m\u001b[0m\u001b[0m\n\u001b[1;32m      5\u001b[0m )\n",
      "\u001b[0;32m~/ParlAI/parlai/core/script.py\u001b[0m in \u001b[0;36mmain\u001b[0;34m(cls, *args, **kwargs)\u001b[0m\n\u001b[1;32m    125\u001b[0m             \u001b[0;32mreturn\u001b[0m \u001b[0mcls\u001b[0m\u001b[0;34m.\u001b[0m\u001b[0m_run_args\u001b[0m\u001b[0;34m(\u001b[0m\u001b[0margs\u001b[0m\u001b[0;34m)\u001b[0m\u001b[0;34m\u001b[0m\u001b[0;34m\u001b[0m\u001b[0m\n\u001b[1;32m    126\u001b[0m         \u001b[0;32melif\u001b[0m \u001b[0mkwargs\u001b[0m\u001b[0;34m:\u001b[0m\u001b[0;34m\u001b[0m\u001b[0;34m\u001b[0m\u001b[0m\n\u001b[0;32m--> 127\u001b[0;31m             \u001b[0;32mreturn\u001b[0m \u001b[0mcls\u001b[0m\u001b[0;34m.\u001b[0m\u001b[0m_run_kwargs\u001b[0m\u001b[0;34m(\u001b[0m\u001b[0mkwargs\u001b[0m\u001b[0;34m)\u001b[0m\u001b[0;34m\u001b[0m\u001b[0;34m\u001b[0m\u001b[0m\n\u001b[0m\u001b[1;32m    128\u001b[0m         \u001b[0;32melse\u001b[0m\u001b[0;34m:\u001b[0m\u001b[0;34m\u001b[0m\u001b[0;34m\u001b[0m\u001b[0m\n\u001b[1;32m    129\u001b[0m             \u001b[0;32mreturn\u001b[0m \u001b[0mcls\u001b[0m\u001b[0;34m.\u001b[0m\u001b[0m_run_args\u001b[0m\u001b[0;34m(\u001b[0m\u001b[0;32mNone\u001b[0m\u001b[0;34m)\u001b[0m\u001b[0;34m\u001b[0m\u001b[0;34m\u001b[0m\u001b[0m\n",
      "\u001b[0;32m~/ParlAI/parlai/core/script.py\u001b[0m in \u001b[0;36m_run_kwargs\u001b[0;34m(cls, kwargs)\u001b[0m\n\u001b[1;32m     89\u001b[0m         \"\"\"\n\u001b[1;32m     90\u001b[0m         \u001b[0mparser\u001b[0m \u001b[0;34m=\u001b[0m \u001b[0mcls\u001b[0m\u001b[0;34m.\u001b[0m\u001b[0msetup_args\u001b[0m\u001b[0;34m(\u001b[0m\u001b[0;34m)\u001b[0m\u001b[0;34m\u001b[0m\u001b[0;34m\u001b[0m\u001b[0m\n\u001b[0;32m---> 91\u001b[0;31m         \u001b[0mopt\u001b[0m \u001b[0;34m=\u001b[0m \u001b[0mparser\u001b[0m\u001b[0;34m.\u001b[0m\u001b[0mparse_kwargs\u001b[0m\u001b[0;34m(\u001b[0m\u001b[0;34m**\u001b[0m\u001b[0mkwargs\u001b[0m\u001b[0;34m)\u001b[0m\u001b[0;34m\u001b[0m\u001b[0;34m\u001b[0m\u001b[0m\n\u001b[0m\u001b[1;32m     92\u001b[0m         \u001b[0;32mreturn\u001b[0m \u001b[0mcls\u001b[0m\u001b[0;34m.\u001b[0m\u001b[0m_run_from_parser_and_opt\u001b[0m\u001b[0;34m(\u001b[0m\u001b[0mopt\u001b[0m\u001b[0;34m,\u001b[0m \u001b[0mparser\u001b[0m\u001b[0;34m)\u001b[0m\u001b[0;34m\u001b[0m\u001b[0;34m\u001b[0m\u001b[0m\n\u001b[1;32m     93\u001b[0m \u001b[0;34m\u001b[0m\u001b[0m\n",
      "\u001b[0;32m~/ParlAI/parlai/core/params.py\u001b[0m in \u001b[0;36mparse_kwargs\u001b[0;34m(self, **kwargs)\u001b[0m\n\u001b[1;32m   1274\u001b[0m         \u001b[0mself\u001b[0m\u001b[0;34m.\u001b[0m\u001b[0merror\u001b[0m \u001b[0;34m=\u001b[0m \u001b[0m_captured_error\u001b[0m\u001b[0;34m\u001b[0m\u001b[0;34m\u001b[0m\u001b[0m\n\u001b[1;32m   1275\u001b[0m         \u001b[0;32mtry\u001b[0m\u001b[0;34m:\u001b[0m\u001b[0;34m\u001b[0m\u001b[0;34m\u001b[0m\u001b[0m\n\u001b[0;32m-> 1276\u001b[0;31m             \u001b[0mstring_args\u001b[0m \u001b[0;34m=\u001b[0m \u001b[0mself\u001b[0m\u001b[0;34m.\u001b[0m\u001b[0m_kwargs_to_str_args\u001b[0m\u001b[0;34m(\u001b[0m\u001b[0;34m**\u001b[0m\u001b[0mkwargs\u001b[0m\u001b[0;34m)\u001b[0m\u001b[0;34m\u001b[0m\u001b[0;34m\u001b[0m\u001b[0m\n\u001b[0m\u001b[1;32m   1277\u001b[0m             \u001b[0;32mreturn\u001b[0m \u001b[0mself\u001b[0m\u001b[0;34m.\u001b[0m\u001b[0mparse_args\u001b[0m\u001b[0;34m(\u001b[0m\u001b[0margs\u001b[0m\u001b[0;34m=\u001b[0m\u001b[0mstring_args\u001b[0m\u001b[0;34m)\u001b[0m\u001b[0;34m\u001b[0m\u001b[0;34m\u001b[0m\u001b[0m\n\u001b[1;32m   1278\u001b[0m         \u001b[0;32mfinally\u001b[0m\u001b[0;34m:\u001b[0m\u001b[0;34m\u001b[0m\u001b[0;34m\u001b[0m\u001b[0m\n",
      "\u001b[0;32m~/ParlAI/parlai/core/params.py\u001b[0m in \u001b[0;36m_kwargs_to_str_args\u001b[0;34m(self, **kwargs)\u001b[0m\n\u001b[1;32m   1226\u001b[0m         \u001b[0;31m# become aware of any extra args that might be specified if the user\u001b[0m\u001b[0;34m\u001b[0m\u001b[0;34m\u001b[0m\u001b[0;34m\u001b[0m\u001b[0m\n\u001b[1;32m   1227\u001b[0m         \u001b[0;31m# provides something like model=\"transformer/generator\".\u001b[0m\u001b[0;34m\u001b[0m\u001b[0;34m\u001b[0m\u001b[0;34m\u001b[0m\u001b[0m\n\u001b[0;32m-> 1228\u001b[0;31m         \u001b[0mself\u001b[0m\u001b[0;34m.\u001b[0m\u001b[0madd_extra_args\u001b[0m\u001b[0;34m(\u001b[0m\u001b[0mstring_args\u001b[0m\u001b[0;34m)\u001b[0m\u001b[0;34m\u001b[0m\u001b[0;34m\u001b[0m\u001b[0m\n\u001b[0m\u001b[1;32m   1229\u001b[0m \u001b[0;34m\u001b[0m\u001b[0m\n\u001b[1;32m   1230\u001b[0m         \u001b[0;31m# do it again, this time knowing about ALL args.\u001b[0m\u001b[0;34m\u001b[0m\u001b[0;34m\u001b[0m\u001b[0;34m\u001b[0m\u001b[0m\n",
      "\u001b[0;32m~/ParlAI/parlai/core/params.py\u001b[0m in \u001b[0;36madd_extra_args\u001b[0;34m(self, args)\u001b[0m\n\u001b[1;32m    938\u001b[0m         \u001b[0mtask\u001b[0m \u001b[0;34m=\u001b[0m \u001b[0mparsed\u001b[0m\u001b[0;34m.\u001b[0m\u001b[0mget\u001b[0m\u001b[0;34m(\u001b[0m\u001b[0;34m'task'\u001b[0m\u001b[0;34m,\u001b[0m \u001b[0;32mNone\u001b[0m\u001b[0;34m)\u001b[0m\u001b[0;34m\u001b[0m\u001b[0;34m\u001b[0m\u001b[0m\n\u001b[1;32m    939\u001b[0m         \u001b[0;32mif\u001b[0m \u001b[0mtask\u001b[0m \u001b[0;32mis\u001b[0m \u001b[0;32mnot\u001b[0m \u001b[0;32mNone\u001b[0m\u001b[0;34m:\u001b[0m\u001b[0;34m\u001b[0m\u001b[0;34m\u001b[0m\u001b[0m\n\u001b[0;32m--> 940\u001b[0;31m             \u001b[0mself\u001b[0m\u001b[0;34m.\u001b[0m\u001b[0madd_task_args\u001b[0m\u001b[0;34m(\u001b[0m\u001b[0mtask\u001b[0m\u001b[0;34m,\u001b[0m \u001b[0mpartial\u001b[0m\u001b[0;34m)\u001b[0m\u001b[0;34m\u001b[0m\u001b[0;34m\u001b[0m\u001b[0m\n\u001b[0m\u001b[1;32m    941\u001b[0m         \u001b[0mevaltask\u001b[0m \u001b[0;34m=\u001b[0m \u001b[0mparsed\u001b[0m\u001b[0;34m.\u001b[0m\u001b[0mget\u001b[0m\u001b[0;34m(\u001b[0m\u001b[0;34m'evaltask'\u001b[0m\u001b[0;34m,\u001b[0m \u001b[0;32mNone\u001b[0m\u001b[0;34m)\u001b[0m\u001b[0;34m\u001b[0m\u001b[0;34m\u001b[0m\u001b[0m\n\u001b[1;32m    942\u001b[0m         \u001b[0;32mif\u001b[0m \u001b[0mevaltask\u001b[0m \u001b[0;32mis\u001b[0m \u001b[0;32mnot\u001b[0m \u001b[0;32mNone\u001b[0m\u001b[0;34m:\u001b[0m\u001b[0;34m\u001b[0m\u001b[0;34m\u001b[0m\u001b[0m\n",
      "\u001b[0;32m~/ParlAI/parlai/core/params.py\u001b[0m in \u001b[0;36madd_task_args\u001b[0;34m(self, task, partial)\u001b[0m\n\u001b[1;32m    847\u001b[0m         \"\"\"\n\u001b[1;32m    848\u001b[0m         \u001b[0;32mfor\u001b[0m \u001b[0mt\u001b[0m \u001b[0;32min\u001b[0m \u001b[0mids_to_tasks\u001b[0m\u001b[0;34m(\u001b[0m\u001b[0mtask\u001b[0m\u001b[0;34m)\u001b[0m\u001b[0;34m.\u001b[0m\u001b[0msplit\u001b[0m\u001b[0;34m(\u001b[0m\u001b[0;34m','\u001b[0m\u001b[0;34m)\u001b[0m\u001b[0;34m:\u001b[0m\u001b[0;34m\u001b[0m\u001b[0;34m\u001b[0m\u001b[0m\n\u001b[0;32m--> 849\u001b[0;31m             \u001b[0magent\u001b[0m \u001b[0;34m=\u001b[0m \u001b[0mload_teacher_module\u001b[0m\u001b[0;34m(\u001b[0m\u001b[0mt\u001b[0m\u001b[0;34m)\u001b[0m\u001b[0;34m\u001b[0m\u001b[0;34m\u001b[0m\u001b[0m\n\u001b[0m\u001b[1;32m    850\u001b[0m             \u001b[0;32mtry\u001b[0m\u001b[0;34m:\u001b[0m\u001b[0;34m\u001b[0m\u001b[0;34m\u001b[0m\u001b[0m\n\u001b[1;32m    851\u001b[0m                 \u001b[0;32mif\u001b[0m \u001b[0mhasattr\u001b[0m\u001b[0;34m(\u001b[0m\u001b[0magent\u001b[0m\u001b[0;34m,\u001b[0m \u001b[0;34m'add_cmdline_args'\u001b[0m\u001b[0;34m)\u001b[0m\u001b[0;34m:\u001b[0m\u001b[0;34m\u001b[0m\u001b[0;34m\u001b[0m\u001b[0m\n",
      "\u001b[0;32m~/ParlAI/parlai/core/loader.py\u001b[0m in \u001b[0;36mload_teacher_module\u001b[0;34m(taskname)\u001b[0m\n\u001b[1;32m    279\u001b[0m         \u001b[0;32mreturn\u001b[0m \u001b[0mTEACHER_REGISTRY\u001b[0m\u001b[0;34m[\u001b[0m\u001b[0mtaskname\u001b[0m\u001b[0;34m]\u001b[0m\u001b[0;34m\u001b[0m\u001b[0;34m\u001b[0m\u001b[0m\n\u001b[1;32m    280\u001b[0m \u001b[0;34m\u001b[0m\u001b[0m\n\u001b[0;32m--> 281\u001b[0;31m     \u001b[0mtask_module\u001b[0m \u001b[0;34m=\u001b[0m \u001b[0mload_task_module\u001b[0m\u001b[0;34m(\u001b[0m\u001b[0mtaskname\u001b[0m\u001b[0;34m)\u001b[0m\u001b[0;34m\u001b[0m\u001b[0;34m\u001b[0m\u001b[0m\n\u001b[0m\u001b[1;32m    282\u001b[0m     \u001b[0mtask_path_list\u001b[0m\u001b[0;34m,\u001b[0m \u001b[0mrepo\u001b[0m \u001b[0;34m=\u001b[0m \u001b[0m_get_task_path_and_repo\u001b[0m\u001b[0;34m(\u001b[0m\u001b[0mtaskname\u001b[0m\u001b[0;34m)\u001b[0m\u001b[0;34m\u001b[0m\u001b[0;34m\u001b[0m\u001b[0m\n\u001b[1;32m    283\u001b[0m \u001b[0;34m\u001b[0m\u001b[0m\n",
      "\u001b[0;32m~/ParlAI/parlai/core/loader.py\u001b[0m in \u001b[0;36mload_task_module\u001b[0;34m(taskname)\u001b[0m\n\u001b[1;32m    245\u001b[0m         \u001b[0mmodule_name\u001b[0m \u001b[0;34m=\u001b[0m \u001b[0;34m\"%s.tasks.%s.agents\"\u001b[0m \u001b[0;34m%\u001b[0m \u001b[0;34m(\u001b[0m\u001b[0mrepo\u001b[0m\u001b[0;34m,\u001b[0m \u001b[0mtask\u001b[0m\u001b[0;34m)\u001b[0m\u001b[0;34m\u001b[0m\u001b[0;34m\u001b[0m\u001b[0m\n\u001b[1;32m    246\u001b[0m \u001b[0;34m\u001b[0m\u001b[0m\n\u001b[0;32m--> 247\u001b[0;31m     \u001b[0mtask_module\u001b[0m \u001b[0;34m=\u001b[0m \u001b[0mimportlib\u001b[0m\u001b[0;34m.\u001b[0m\u001b[0mimport_module\u001b[0m\u001b[0;34m(\u001b[0m\u001b[0mmodule_name\u001b[0m\u001b[0;34m)\u001b[0m\u001b[0;34m\u001b[0m\u001b[0;34m\u001b[0m\u001b[0m\n\u001b[0m\u001b[1;32m    248\u001b[0m \u001b[0;34m\u001b[0m\u001b[0m\n\u001b[1;32m    249\u001b[0m     \u001b[0;32mreturn\u001b[0m \u001b[0mtask_module\u001b[0m\u001b[0;34m\u001b[0m\u001b[0;34m\u001b[0m\u001b[0m\n",
      "\u001b[0;32m~/anaconda3/envs/parlai/lib/python3.8/importlib/__init__.py\u001b[0m in \u001b[0;36mimport_module\u001b[0;34m(name, package)\u001b[0m\n\u001b[1;32m    125\u001b[0m                 \u001b[0;32mbreak\u001b[0m\u001b[0;34m\u001b[0m\u001b[0;34m\u001b[0m\u001b[0m\n\u001b[1;32m    126\u001b[0m             \u001b[0mlevel\u001b[0m \u001b[0;34m+=\u001b[0m \u001b[0;36m1\u001b[0m\u001b[0;34m\u001b[0m\u001b[0;34m\u001b[0m\u001b[0m\n\u001b[0;32m--> 127\u001b[0;31m     \u001b[0;32mreturn\u001b[0m \u001b[0m_bootstrap\u001b[0m\u001b[0;34m.\u001b[0m\u001b[0m_gcd_import\u001b[0m\u001b[0;34m(\u001b[0m\u001b[0mname\u001b[0m\u001b[0;34m[\u001b[0m\u001b[0mlevel\u001b[0m\u001b[0;34m:\u001b[0m\u001b[0;34m]\u001b[0m\u001b[0;34m,\u001b[0m \u001b[0mpackage\u001b[0m\u001b[0;34m,\u001b[0m \u001b[0mlevel\u001b[0m\u001b[0;34m)\u001b[0m\u001b[0;34m\u001b[0m\u001b[0;34m\u001b[0m\u001b[0m\n\u001b[0m\u001b[1;32m    128\u001b[0m \u001b[0;34m\u001b[0m\u001b[0m\n\u001b[1;32m    129\u001b[0m \u001b[0;34m\u001b[0m\u001b[0m\n",
      "\u001b[0;32m~/anaconda3/envs/parlai/lib/python3.8/importlib/_bootstrap.py\u001b[0m in \u001b[0;36m_gcd_import\u001b[0;34m(name, package, level)\u001b[0m\n",
      "\u001b[0;32m~/anaconda3/envs/parlai/lib/python3.8/importlib/_bootstrap.py\u001b[0m in \u001b[0;36m_find_and_load\u001b[0;34m(name, import_)\u001b[0m\n",
      "\u001b[0;32m~/anaconda3/envs/parlai/lib/python3.8/importlib/_bootstrap.py\u001b[0m in \u001b[0;36m_find_and_load_unlocked\u001b[0;34m(name, import_)\u001b[0m\n",
      "\u001b[0;32m~/anaconda3/envs/parlai/lib/python3.8/importlib/_bootstrap.py\u001b[0m in \u001b[0;36m_call_with_frames_removed\u001b[0;34m(f, *args, **kwds)\u001b[0m\n",
      "\u001b[0;32m~/anaconda3/envs/parlai/lib/python3.8/importlib/_bootstrap.py\u001b[0m in \u001b[0;36m_gcd_import\u001b[0;34m(name, package, level)\u001b[0m\n",
      "\u001b[0;32m~/anaconda3/envs/parlai/lib/python3.8/importlib/_bootstrap.py\u001b[0m in \u001b[0;36m_find_and_load\u001b[0;34m(name, import_)\u001b[0m\n",
      "\u001b[0;32m~/anaconda3/envs/parlai/lib/python3.8/importlib/_bootstrap.py\u001b[0m in \u001b[0;36m_find_and_load_unlocked\u001b[0;34m(name, import_)\u001b[0m\n",
      "\u001b[0;31mModuleNotFoundError\u001b[0m: No module named 'parlai.tasks.testflow'"
     ]
    }
   ],
   "source": [
    "BuildCandidates.main(\n",
    "    datapath='flow_data',\n",
    "    task='testflow:train2',\n",
    "    outfile='flow_test/candidates.txt'\n",
    ")"
   ]
  },
  {
   "cell_type": "code",
   "execution_count": null,
   "metadata": {},
   "outputs": [],
   "source": []
  }
 ]
}