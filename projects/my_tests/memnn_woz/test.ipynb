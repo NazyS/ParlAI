{
 "metadata": {
  "language_info": {
   "codemirror_mode": {
    "name": "ipython",
    "version": 3
   },
   "file_extension": ".py",
   "mimetype": "text/x-python",
   "name": "python",
   "nbconvert_exporter": "python",
   "pygments_lexer": "ipython3",
   "version": "3.8.10"
  },
  "orig_nbformat": 4,
  "kernelspec": {
   "name": "python3",
   "display_name": "Python 3.8.10 64-bit ('base': conda)"
  },
  "interpreter": {
   "hash": "a4ec12c2512e5abbaa18bd914249c9bc215739815913c6226678d4ac34c598cf"
  }
 },
 "nbformat": 4,
 "nbformat_minor": 2,
 "cells": [
  {
   "cell_type": "code",
   "execution_count": 1,
   "metadata": {},
   "outputs": [],
   "source": [
    "import json"
   ]
  },
  {
   "cell_type": "code",
   "execution_count": 3,
   "metadata": {},
   "outputs": [],
   "source": [
    "candidates = []\n",
    "\n",
    "path = '/home/nazar/ParlAI/data/WoZ/'\n",
    "fnames = ['woz_train_en.json', 'woz_validate_en.json', 'woz_test_en.json']\n",
    "\n",
    "for fname in fnames:\n",
    "\n",
    "    with open(path+fname, \"r\") as f:\n",
    "        data = json.load(f)\n",
    "\n",
    "    for dialogue in data:\n",
    "        for line in dialogue['dialogue']:\n",
    "            for el in [':'.join(turn_labels) for turn_labels in line['turn_label']]:\n",
    "                candidates.append(el) "
   ]
  },
  {
   "cell_type": "code",
   "execution_count": 4,
   "metadata": {},
   "outputs": [],
   "source": [
    "candidates = set(candidates)"
   ]
  },
  {
   "cell_type": "code",
   "execution_count": 5,
   "metadata": {},
   "outputs": [],
   "source": [
    "with open('labels_full.dict', 'a') as f:\n",
    "    for el in candidates:\n",
    "        f.write(el+'\\n')"
   ]
  },
  {
   "cell_type": "code",
   "execution_count": null,
   "metadata": {},
   "outputs": [],
   "source": []
  },
  {
   "source": [
    "# dialog babi task 5 checking labels"
   ],
   "cell_type": "markdown",
   "metadata": {}
  },
  {
   "cell_type": "code",
   "execution_count": 3,
   "metadata": {},
   "outputs": [],
   "source": [
    "labels = []\n",
    "with open('/home/nazar/ParlAI/data/dialog-bAbI/dialog-bAbI-tasks/dialog-babi-task5-full-dialogs-trn.txt') as f:\n",
    "    for line in f.readlines():\n",
    "        if '\\t' in line:\n",
    "            strings = line.strip().split('\\t')\n",
    "            labels.append(\n",
    "                strings[-1]\n",
    "            )"
   ]
  },
  {
   "cell_type": "code",
   "execution_count": 7,
   "metadata": {},
   "outputs": [],
   "source": [
    "labels = set(labels)"
   ]
  },
  {
   "cell_type": "code",
   "execution_count": 9,
   "metadata": {},
   "outputs": [
    {
     "output_type": "execute_result",
     "data": {
      "text/plain": [
       "1098"
      ]
     },
     "metadata": {},
     "execution_count": 9
    }
   ],
   "source": [
    "len(labels)"
   ]
  },
  {
   "cell_type": "code",
   "execution_count": 13,
   "metadata": {
    "tags": [
     "outputPrepend"
    ]
   },
   "outputs": [
    {
     "output_type": "stream",
     "name": "stdout",
     "text": [
      "on_cheap_french_2stars_address\nhere it is resto_london_cheap_spanish_7stars_address\nwhat do you think of this option: resto_bombay_expensive_british_8stars\nhere it is resto_rome_cheap_italian_3stars_phone\nwhat do you think of this option: resto_paris_cheap_spanish_6stars\napi_call french madrid six moderate\nhere it is resto_rome_moderate_indian_5stars_address\nwhat do you think of this option: resto_madrid_expensive_indian_1stars\nwhat do you think of this option: resto_madrid_moderate_french_8stars\nhere it is resto_london_moderate_british_1stars_address\nhere it is resto_london_expensive_spanish_8stars_address\nhere it is resto_madrid_cheap_french_5stars_phone\nwhat do you think of this option: resto_paris_moderate_italian_5stars\nwhat do you think of this option: resto_paris_expensive_british_5stars\nwhat do you think of this option: resto_madrid_cheap_indian_1stars\nhere it is resto_rome_moderate_indian_1stars_phone\nwhat do you think of this option: resto_rome_cheap_british_4stars\nhere it is resto_rome_moderate_indian_7stars_phone\nhere it is resto_bombay_moderate_italian_7stars_phone\nwhat do you think of this option: resto_london_expensive_spanish_6stars\nwhat do you think of this option: resto_madrid_moderate_indian_7stars\nhere it is resto_madrid_cheap_british_4stars_phone\nhere it is resto_rome_moderate_british_2stars_address\napi_call french paris four moderate\nwhat do you think of this option: resto_bombay_cheap_french_7stars\napi_call french madrid two moderate\nwhat do you think of this option: resto_madrid_cheap_british_3stars\nwhat do you think of this option: resto_london_cheap_spanish_7stars\napi_call indian madrid eight cheap\napi_call spanish london eight cheap\nhere it is resto_paris_expensive_french_8stars_phone\nwhat do you think of this option: resto_rome_moderate_italian_3stars\napi_call indian bombay two expensive\nwhat do you think of this option: resto_paris_moderate_british_2stars\nwhat do you think of this option: resto_bombay_moderate_spanish_1stars\nwhat do you think of this option: resto_london_expensive_british_8stars\nhere it is resto_london_cheap_spanish_4stars_address\nhere it is resto_paris_expensive_spanish_3stars_address\nhere it is resto_bombay_expensive_british_2stars_address\napi_call indian paris four moderate\nwhat do you think of this option: resto_rome_moderate_spanish_3stars\nhere it is resto_london_expensive_french_5stars_phone\nwhat do you think of this option: resto_london_cheap_italian_5stars\nwhat do you think of this option: resto_paris_expensive_french_1stars\nhere it is resto_london_cheap_italian_8stars_phone\nwhat do you think of this option: resto_paris_moderate_indian_1stars\nhere it is resto_madrid_cheap_indian_1stars_address\nhere it is resto_london_expensive_british_3stars_address\nhere it is resto_madrid_moderate_french_6stars_phone\nhere it is resto_paris_moderate_french_2stars_phone\napi_call indian rome four moderate\nwhat do you think of this option: resto_paris_expensive_french_7stars\nhere it is resto_london_moderate_indian_2stars_address\nwhat do you think of this option: resto_bombay_moderate_french_5stars\nhere it is resto_madrid_cheap_british_5stars_phone\nhere it is resto_paris_expensive_indian_1stars_phone\napi_call french bombay six moderate\nhere it is resto_paris_moderate_british_6stars_phone\nhere it is resto_paris_moderate_spanish_8stars_phone\nhere it is resto_madrid_expensive_italian_4stars_phone\nhere it is resto_rome_cheap_italian_3stars_address\nwhat do you think of this option: resto_madrid_moderate_italian_6stars\nyou're welcome\nwhat do you think of this option: resto_london_cheap_spanish_8stars\nhere it is resto_madrid_expensive_french_1stars_address\nwhat do you think of this option: resto_paris_expensive_british_3stars\napi_call spanish madrid two cheap\nhere it is resto_madrid_expensive_french_1stars_phone\nhere it is resto_london_expensive_spanish_4stars_phone\nhere it is resto_paris_expensive_indian_7stars_address\napi_call spanish london four expensive\nhere it is resto_paris_moderate_indian_5stars_address\nwhat do you think of this option: resto_rome_expensive_british_5stars\nhere it is resto_paris_cheap_spanish_7stars_address\nhere it is resto_bombay_cheap_italian_2stars_phone\nwhat do you think of this option: resto_london_cheap_italian_2stars\napi_call italian bombay six cheap\napi_call spanish bombay six cheap\napi_call spanish paris four moderate\nwhat do you think of this option: resto_madrid_cheap_french_8stars\nhere it is resto_london_moderate_british_8stars_address\nhere it is resto_rome_expensive_spanish_6stars_address\nwhat do you think of this option: resto_london_cheap_british_1stars\nhere it is resto_rome_cheap_french_6stars_address\napi_call british rome six expensive\nhere it is resto_madrid_moderate_british_6stars_address\nhere it is resto_bombay_cheap_spanish_7stars_phone\napi_call spanish rome six expensive\nhere it is resto_paris_cheap_british_5stars_phone\napi_call british madrid six expensive\nhere it is resto_madrid_cheap_spanish_8stars_address\nwhat do you think of this option: resto_madrid_moderate_french_3stars\nwhat do you think of this option: resto_london_moderate_british_6stars\nhere it is resto_paris_cheap_spanish_1stars_address\nhere it is resto_rome_cheap_spanish_3stars_address\napi_call spanish rome six cheap\nhere it is resto_london_cheap_spanish_8stars_address\nhere it is resto_rome_moderate_french_2stars_phone\nhere it is resto_madrid_moderate_british_7stars_address\nhere it is resto_bombay_expensive_spanish_8stars_address\napi_call indian rome six moderate\nhere it is resto_bombay_cheap_italian_8stars_address\napi_call british london four expensive\nwhat do you think of this option: resto_rome_expensive_spanish_7stars\nwhat do you think of this option: resto_rome_moderate_french_6stars\napi_call spanish rome four moderate\nwhat do you think of this option: resto_madrid_cheap_italian_7stars\nhere it is resto_bombay_cheap_indian_4stars_phone\nhere it is resto_paris_cheap_british_8stars_address\napi_call spanish london six expensive\nhere it is resto_rome_moderate_french_2stars_address\nwhat do you think of this option: resto_paris_moderate_french_7stars\nhere it is resto_london_moderate_british_2stars_phone\nhere it is resto_london_expensive_indian_2stars_phone\nhere it is resto_london_cheap_british_3stars_phone\nhere it is resto_rome_cheap_spanish_4stars_address\napi_call british rome four moderate\nhere it is resto_rome_moderate_british_4stars_address\nhere it is resto_paris_expensive_italian_4stars_phone\nhere it is resto_bombay_expensive_italian_4stars_address\nwhat do you think of this option: resto_bombay_moderate_italian_4stars\nhere it is resto_bombay_expensive_indian_5stars_phone\nhere it is resto_paris_cheap_french_7stars_phone\nhere it is resto_paris_moderate_indian_5stars_phone\nhere it is resto_rome_moderate_indian_2stars_phone\napi_call italian london four moderate\nhere it is resto_madrid_moderate_italian_7stars_phone\napi_call british paris eight expensive\nhere it is resto_bombay_moderate_french_1stars_phone\nhere it is resto_paris_cheap_french_8stars_phone\nhere it is resto_rome_cheap_british_1stars_address\nwhat do you think of this option: resto_madrid_cheap_italian_3stars\nwhat do you think of this option: resto_madrid_cheap_french_5stars\nhere it is resto_london_cheap_british_5stars_phone\nhere it is resto_london_expensive_indian_2stars_address\nhere it is resto_madrid_expensive_italian_7stars_phone\nhere it is resto_paris_expensive_italian_1stars_address\nwhat do you think of this option: resto_london_expensive_spanish_5stars\nhere it is resto_madrid_cheap_italian_8stars_address\nhere it is resto_london_moderate_spanish_6stars_phone\nhere it is resto_london_moderate_italian_7stars_phone\napi_call italian bombay six moderate\nhere it is resto_paris_moderate_indian_8stars_address\nwhat do you think of this option: resto_london_moderate_spanish_2stars\nhere it is resto_paris_moderate_french_5stars_address\nhere it is resto_paris_moderate_british_8stars_address\napi_call british paris six expensive\nwhat do you think of this option: resto_london_expensive_british_7stars\napi_call french madrid eight expensive\nhere it is resto_rome_expensive_french_4stars_address\napi_call british paris six moderate\nhere it is resto_bombay_expensive_indian_5stars_address\nwhat do you think of this option: resto_london_expensive_french_1stars\nwhat do you think of this option: resto_london_moderate_french_8stars\napi_call indian paris six cheap\nhere it is resto_rome_moderate_spanish_2stars_address\nwhat do you think of this option: resto_madrid_cheap_french_7stars\nhere it is resto_paris_moderate_italian_2stars_address\ni'm on it\nwhat do you think of this option: resto_rome_cheap_british_7stars\nhere it is resto_london_cheap_italian_4stars_address\napi_call indian bombay four cheap\nhere it is resto_rome_moderate_indian_4stars_phone\nhere it is resto_london_cheap_italian_8stars_address\nhere it is resto_bombay_cheap_indian_2stars_address\nhere it is resto_paris_cheap_italian_1stars_address\nhere it is resto_rome_expensive_spanish_7stars_address\nwhat do you think of this option: resto_madrid_cheap_british_5stars\nhere it is resto_london_expensive_indian_1stars_phone\nwhat do you think of this option: resto_bombay_expensive_italian_2stars\nwhat do you think of this option: resto_paris_expensive_spanish_6stars\napi_call indian london two expensive\napi_call indian rome two moderate\nhere it is resto_madrid_moderate_italian_4stars_phone\napi_call indian paris two expensive\nwhat do you think of this option: resto_bombay_moderate_italian_2stars\nhere it is resto_bombay_expensive_spanish_8stars_phone\nhere it is resto_madrid_moderate_british_7stars_phone\nhere it is resto_bombay_moderate_spanish_8stars_phone\nhere it is resto_rome_moderate_british_2stars_phone\nwhat do you think of this option: resto_paris_moderate_spanish_4stars\nwhat do you think of this option: resto_madrid_expensive_british_1stars\napi_call indian madrid four cheap\nhere it is resto_madrid_expensive_indian_4stars_phone\nhere it is resto_madrid_moderate_french_8stars_phone\nhere it is resto_madrid_cheap_british_1stars_phone\nwhat do you think of this option: resto_madrid_expensive_indian_4stars\napi_call italian london two expensive\nhere it is resto_paris_moderate_british_1stars_address\nhere it is resto_madrid_expensive_spanish_6stars_phone\nhere it is resto_paris_expensive_spanish_1stars_phone\nhere it is resto_paris_moderate_spanish_1stars_phone\nhere it is resto_london_moderate_british_6stars_phone\napi_call british london six expensive\nhere it is resto_rome_cheap_british_7stars_phone\nhere it is resto_bombay_moderate_french_7stars_address\napi_call french london six expensive\nwhat do you think of this option: resto_bombay_cheap_french_8stars\nwhat do you think of this option: resto_rome_moderate_indian_7stars\napi_call italian bombay eight moderate\nhere it is resto_paris_cheap_spanish_2stars_address\nwhat do you think of this option: resto_bombay_expensive_indian_4stars\napi_call spanish bombay eight expensive\nwhat do you think of this option: resto_london_cheap_italian_1stars\nhere it is resto_london_expensive_french_3stars_phone\napi_call spanish madrid four expensive\napi_call spanish madrid six moderate\napi_call british bombay two expensive\nwhat do you think of this option: resto_paris_moderate_french_5stars\nwhat do you think of this option: resto_paris_moderate_british_6stars\napi_call british london two moderate\nhere it is resto_bombay_expensive_indian_2stars_phone\nhere it is resto_paris_cheap_british_4stars_address\napi_call italian rome six moderate\nhere it is resto_madrid_cheap_italian_6stars_address\nhere it is resto_paris_cheap_spanish_7stars_phone\napi_call french madrid six expensive\nhere it is resto_rome_cheap_french_3stars_phone\nhere it is resto_london_cheap_british_5stars_address\napi_call french madrid two cheap\nhere it is resto_paris_expensive_british_2stars_phone\nhere it is resto_london_moderate_french_8stars_phone\nhere it is resto_london_cheap_italian_5stars_phone\nhere it is resto_london_moderate_indian_3stars_phone\nwhat do you think of this option: resto_bombay_expensive_indian_1stars\nhere it is resto_bombay_moderate_french_8stars_phone\nwhat do you think of this option: resto_madrid_moderate_british_7stars\nhere it is resto_bombay_expensive_british_2stars_phone\nhere it is resto_rome_moderate_spanish_2stars_phone\napi_call italian paris six expensive\napi_call indian bombay four moderate\napi_call french rome eight cheap\napi_call spanish madrid six expensive\nhere it is resto_london_expensive_spanish_1stars_address\nhere it is resto_london_cheap_italian_6stars_address\nwhat do you think of this option: resto_paris_expensive_spanish_8stars\nwhat do you think of this option: resto_rome_cheap_italian_6stars\nhere it is resto_bombay_moderate_british_3stars_address\nhere it is resto_bombay_cheap_italian_3stars_phone\nhere it is resto_madrid_cheap_indian_1stars_phone\nhere it is resto_bombay_moderate_italian_2stars_address\nhere it is resto_rome_moderate_spanish_8stars_phone\napi_call spanish london four cheap\nhere it is resto_paris_expensive_spanish_3stars_phone\nwhat do you think of this option: resto_rome_expensive_british_8stars\napi_call french paris six cheap\nhere it is resto_london_moderate_british_8stars_phone\ngreat let me do the reservation\nhere it is resto_rome_expensive_indian_1stars_phone\napi_call indian london four expensive\nhere it is resto_madrid_cheap_spanish_6stars_address\nhere it is resto_madrid_cheap_spanish_8stars_phone\nwhat do you think of this option: resto_london_cheap_french_2stars\nwhat do you think of this option: resto_bombay_expensive_italian_8stars\nwhat do you think of this option: resto_rome_moderate_french_7stars\napi_call british rome eight moderate\nwhat do you think of this option: resto_rome_moderate_british_8stars\nhere it is resto_paris_moderate_indian_1stars_address\nhere it is resto_london_expensive_spanish_3stars_address\nhere it is resto_bombay_cheap_french_1stars_address\nhere it is resto_paris_moderate_italian_6stars_phone\nhere it is resto_paris_moderate_spanish_6stars_address\nhere it is resto_london_moderate_italian_4stars_phone\nhere it is resto_bombay_expensive_italian_1stars_phone\nhere it is resto_london_cheap_italian_2stars_phone\nhere it is resto_london_expensive_italian_3stars_phone\nwhat do you think of this option: resto_paris_expensive_spanish_5stars\nhere it is resto_bombay_cheap_indian_4stars_address\nhere it is resto_london_expensive_british_7stars_address\nhere it is resto_london_cheap_italian_6stars_phone\nwhat do you think of this option: resto_madrid_moderate_british_5stars\nwhich price range are looking for\nhere it is resto_madrid_moderate_indian_2stars_address\nhere it is resto_bombay_cheap_french_2stars_phone\nwhat do you think of this option: resto_madrid_moderate_french_4stars\nwhat do you think of this option: resto_bombay_cheap_spanish_6stars\nwhat do you think of this option: resto_london_moderate_indian_2stars\nwhat do you think of this option: resto_madrid_expensive_italian_7stars\napi_call italian paris two moderate\napi_call indian rome four expensive\nhere it is resto_paris_moderate_spanish_6stars_phone\nhere it is resto_rome_cheap_indian_5stars_address\nhere it is resto_rome_expensive_spanish_7stars_phone\nhere it is resto_madrid_cheap_french_7stars_phone\nwhat do you think of this option: resto_london_expensive_british_3stars\nwhat do you think of this option: resto_london_moderate_british_8stars\nwhat do you think of this option: resto_bombay_expensive_spanish_1stars\nhere it is resto_bombay_cheap_spanish_7stars_address\napi_call spanish bombay six expensive\nhere it is resto_bombay_cheap_spanish_8stars_phone\nhere it is resto_paris_moderate_british_1stars_phone\napi_call spanish rome two moderate\nwhat do you think of this option: resto_rome_moderate_spanish_6stars\nwhat do you think of this option: resto_paris_cheap_french_4stars\nwhat do you think of this option: resto_bombay_cheap_spanish_1stars\nwhat do you think of this option: resto_paris_expensive_french_4stars\nwhat do you think of this option: resto_paris_moderate_spanish_5stars\nhere it is resto_bombay_moderate_british_1stars_phone\nhello what can i help you with today\nwhat do you think of this option: resto_paris_moderate_indian_8stars\napi_call british bombay four moderate\nwhat do you think of this option: resto_madrid_cheap_spanish_8stars\nhere it is resto_london_cheap_british_2stars_phone\nhere it is resto_paris_expensive_spanish_6stars_address\nwhat do you think of this option: resto_rome_cheap_indian_6stars\nwhat do you think of this option: resto_paris_cheap_indian_3stars\nhere it is resto_paris_expensive_italian_4stars_address\nwhat do you think of this option: resto_bombay_cheap_italian_8stars\nhere it is resto_paris_cheap_spanish_4stars_address\nhere it is resto_bombay_moderate_italian_5stars_phone\nhere it is resto_london_moderate_indian_2stars_phone\nhere it is resto_rome_moderate_spanish_6stars_phone\nhere it is resto_paris_expensive_italian_1stars_phone\nhere it is resto_paris_expensive_italian_8stars_address\nhere it is resto_rome_cheap_spanish_3stars_phone\nwhat do you think of this option: resto_london_moderate_british_5stars\nhere it is resto_madrid_moderate_french_1stars_address\nwhat do you think of this option: resto_rome_expensive_french_8stars\nhere it is resto_bombay_moderate_british_6stars_address\napi_call spanish madrid eight moderate\nwhat do you think of this option: resto_bombay_moderate_indian_1stars\nhere it is resto_rome_cheap_french_3stars_address\nhere it is resto_paris_cheap_italian_6stars_address\napi_call indian madrid six cheap\nwhat do you think of this option: resto_madrid_moderate_british_1stars\nwhat do you think of this option: resto_paris_moderate_italian_2stars\nhere it is resto_bombay_expensive_british_8stars_address\napi_call italian bombay four moderate\nwhat do you think of this option: resto_rome_moderate_spanish_4stars\nwhat do you think of this option: resto_paris_expensive_italian_1stars\nhere it is resto_rome_moderate_spanish_8stars_address\nwhat do you think of this option: resto_rome_moderate_italian_2stars\nwhat do you think of this option: resto_london_expensive_spanish_1stars\nwhat do you think of this option: resto_paris_cheap_spanish_7stars\nhere it is resto_madrid_moderate_british_1stars_address\nhere it is resto_london_expensive_spanish_6stars_phone\nhere it is resto_bombay_cheap_french_7stars_phone\nhere it is resto_paris_expensive_french_1stars_address\nwhat do you think of this option: resto_madrid_moderate_italian_7stars\napi_call italian london four expensive\nhere it is resto_rome_expensive_british_8stars_address\nwhat do you think of this option: resto_paris_cheap_british_8stars\nhere it is resto_rome_moderate_italian_5stars_phone\nwhat do you think of this option: resto_paris_expensive_spanish_4stars\nwhat do you think of this option: resto_london_cheap_british_4stars\nwhat do you think of this option: resto_rome_cheap_spanish_3stars\nwhat do you think of this option: resto_rome_moderate_italian_5stars\nhere it is resto_paris_expensive_french_1stars_phone\napi_call italian paris six cheap\nhere it is resto_bombay_expensive_spanish_1stars_address\nwhat do you think of this option: resto_london_expensive_italian_3stars\nhere it is resto_rome_expensive_indian_6stars_address\napi_call british london six cheap\napi_call french london two cheap\nhere it is resto_paris_moderate_italian_5stars_address\napi_call french bombay two cheap\nhere it is resto_paris_cheap_british_7stars_phone\nwhat do you think of this option: resto_madrid_cheap_italian_2stars\nwhat do you think of this option: resto_paris_expensive_indian_4stars\nhere it is resto_paris_expensive_french_5stars_address\nwhat do you think of this option: resto_paris_cheap_british_6stars\napi_call italian paris two cheap\nwhat do you think of this option: resto_bombay_moderate_indian_2stars\nwhat do you think of this option: resto_london_expensive_indian_6stars\nhere it is resto_london_cheap_british_1stars_address\nis there anything i can help you with\napi_call spanish bombay four expensive\nwhat do you think of this option: resto_paris_cheap_italian_6stars\n"
     ]
    }
   ],
   "source": [
    "for el in labels:\n",
    "    print(el)"
   ]
  },
  {
   "cell_type": "code",
   "execution_count": 14,
   "metadata": {},
   "outputs": [
    {
     "output_type": "execute_result",
     "data": {
      "text/plain": [
       "1098"
      ]
     },
     "metadata": {},
     "execution_count": 14
    }
   ],
   "source": [
    "len(labels)"
   ]
  },
  {
   "cell_type": "code",
   "execution_count": null,
   "metadata": {},
   "outputs": [],
   "source": []
  }
 ]
}