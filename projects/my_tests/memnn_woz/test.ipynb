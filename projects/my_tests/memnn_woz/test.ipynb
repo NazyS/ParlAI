{
 "metadata": {
  "language_info": {
   "codemirror_mode": {
    "name": "ipython",
    "version": 3
   },
   "file_extension": ".py",
   "mimetype": "text/x-python",
   "name": "python",
   "nbconvert_exporter": "python",
   "pygments_lexer": "ipython3",
   "version": "3.8.10"
  },
  "orig_nbformat": 4,
  "kernelspec": {
   "name": "python3",
   "display_name": "Python 3.8.10 64-bit ('base': conda)"
  },
  "interpreter": {
   "hash": "a4ec12c2512e5abbaa18bd914249c9bc215739815913c6226678d4ac34c598cf"
  }
 },
 "nbformat": 4,
 "nbformat_minor": 2,
 "cells": [
  {
   "cell_type": "code",
   "execution_count": 1,
   "metadata": {},
   "outputs": [],
   "source": [
    "import json"
   ]
  },
  {
   "cell_type": "code",
   "execution_count": 3,
   "metadata": {},
   "outputs": [],
   "source": [
    "candidates = []\n",
    "\n",
    "path = '/home/nazar/ParlAI/data/WoZ/'\n",
    "fnames = ['woz_train_en.json', 'woz_validate_en.json', 'woz_test_en.json']\n",
    "\n",
    "for fname in fnames:\n",
    "\n",
    "    with open(path+fname, \"r\") as f:\n",
    "        data = json.load(f)\n",
    "\n",
    "    for dialogue in data:\n",
    "        for line in dialogue['dialogue']:\n",
    "            for el in [':'.join(turn_labels) for turn_labels in line['turn_label']]:\n",
    "                candidates.append(el) "
   ]
  },
  {
   "cell_type": "code",
   "execution_count": 4,
   "metadata": {},
   "outputs": [],
   "source": [
    "candidates = set(candidates)"
   ]
  },
  {
   "cell_type": "code",
   "execution_count": 5,
   "metadata": {},
   "outputs": [],
   "source": [
    "with open('labels_full.dict', 'a') as f:\n",
    "    for el in candidates:\n",
    "        f.write(el+'\\n')"
   ]
  },
  {
   "cell_type": "code",
   "execution_count": null,
   "metadata": {},
   "outputs": [],
   "source": []
  }
 ]
}